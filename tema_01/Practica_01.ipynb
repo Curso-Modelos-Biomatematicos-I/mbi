{
  "cells": [
    {
      "cell_type": "markdown",
      "metadata": {
        "id": "rJVKlnA3_r5m"
      },
      "source": [
        "# Práctica 1: Introducción a Python  {.unnumbered}"
      ]
    },
    {
      "cell_type": "markdown",
      "metadata": {},
      "source": [
        "[Abrir este notebook en Google Colab](https://colab.research.google.com/drive/1UUTNO9j81D7AZY6C4tSlD9XqDjKP9Wtl?usp=sharing).\n",
        "\n",
        "A continuación puedes consultar el video en el que se explica esta práctica.\n",
        "\n",
        "<iframe width=\"100%\" height=\"500\" src=\"https://www.youtube.com/embed/UZXCpHtB8mg\" title=\"Modelos biomatemáticos I: Practica 1 - Introducción a Python\" frameborder=\"0\" allow=\"accelerometer; autoplay; clipboard-write; encrypted-media; gyroscope; picture-in-picture; web-share\" referrerpolicy=\"strict-origin-when-cross-origin\" allowfullscreen></iframe>"
      ]
    },
    {
      "cell_type": "markdown",
      "metadata": {
        "id": "ZuxieE23otmh"
      },
      "source": [
        "## Introducción"
      ]
    },
    {
      "cell_type": "markdown",
      "metadata": {
        "id": "qkPK2NpnmmfG"
      },
      "source": [
        "### La programación en la biología\n",
        "\n",
        "Hoy en día la programación es una habilidad central para cualquier estudiante de biología (y de cualquier otra carrera). En la biología existen varias áreas de investigación cuya principal herramienta de investigación son las computadoras. Tal es el caso de la bioinformática, la ecología computacional y la bioloíga de sistemas. Además en cualquier otra área de la biología el uso de herramientas computacionales también es indispensable para sistematizar, ordenar y analizar datos de experimentos u observaciones.\n"
      ]
    },
    {
      "cell_type": "markdown",
      "metadata": {
        "id": "9mJixABcm1eU"
      },
      "source": [
        "\n",
        "### Computadoras\n",
        "\n",
        "Las computadoras son máquinas muy poderosas que como bien sabemos podemos usarlas para infinidad de cosas: navegar en internet, crear documentos, jugar videojuegos, esuchas música, ver videos de gatitos, trabajar, procastinar, etc. Aunque parezcan muy poderosas en realidad las computadoras son máquinas cuyo principio de funcionamiento es relativamente simple. Son máquinas que solo ejecutan las instrucciones que uno les de de tal manera que pueden procesar datos de entrada y generar así salidas.\n",
        "\n",
        "La mayoría de las veces lo que más nos interesa de las computadoras es usarlas para pasarles nuestras entradas y obtener nuestras salidas. Por ejemplo, introducimos el texto de nuestras búsquedas en un navegador y nos arroja como salidas los enlaces del contenido que queremos ver; introducimos el texto de a un procesador de textos y como salida obtenemos nuestro documento formateado; le metemos nuestras selfies y como salida obtenemos una foto donde me pusieron orejitas de conejo; le metemos nuestros videos en crudo y como salida obtenemos un video editado; le metemos nuestra tarea a ChatGTP y como salida obtenemos una respuesta.\n",
        "\n",
        "Todo esto parece como obra de magia. Sin embargo, todo esto lo podemos hacer ya que hay gente que creó esas herramientas que usamos. Crear estas herramientas significa crear las instrucciones o comandos que sigue la computadora. Para ello es necesario programar. Para hablar con las computadoras y decirles qué queremos que hagan debemos usar lenguajes de programación.\n",
        "\n"
      ]
    },
    {
      "cell_type": "markdown",
      "metadata": {
        "id": "6Q5kkUYlnA1i"
      },
      "source": [
        "### Lenguajes de programación\n",
        "\n",
        "Existen muchos lenguajes de programación. Y las herramientas que usas en tu día a día están escritas en distintos lenguajes de programación. Por ejemplo, los sistemas operativos como Windows, Mac y Linux estan escritos en C, la mayoría de las aplicaciones de los celulares android están escritos Java, las aplicaciones de Mac en Swift, la mayoría de los análisis estadísticos que se hacen en biología se hacen en R, la mayoría de las aplicaciones web que usas día a día (instagram, tiktok, reddit) están construidas con Javascript. En biología y en la ciencia muchas herramientas se usan crean con python. Por eso es el que vamos a usar en este curso.\n",
        "\n",
        "En este curso vamos a aprender lo básico de [Python](https://www.python.org/).\n",
        "\n"
      ]
    },
    {
      "cell_type": "markdown",
      "metadata": {
        "id": "WOEzzM1inDDP"
      },
      "source": [
        "### ¿Qué es un programa?\n",
        "\n",
        "Un programa simplemente es una secuencia de instrucciones que debe ejecutar una computadora. Estos los podemos escribir en cualquier lenguaje de programación. Lo que hacen los programadores es escribir programas en archivos de texto. Luego esos archivos son leidos por otros programas especializados que se encargan de traducir esos programas en instrucciones que las computadoras pueden entender y así el programa se puede ejecutar.\n",
        "\n"
      ]
    },
    {
      "cell_type": "markdown",
      "metadata": {
        "id": "N3sMPdRfnEbN"
      },
      "source": [
        "### Notebooks\n",
        "\n",
        "Los programas generalmente se escriben en archivos de texto plano que puede abrir cualquer editor de texto básico como el block de notas. En el curso  estaremos usando **notebooks** como éste. Los notebooks funcionan con *céldas* las cuales pueden ser de texto (como el que estás leyendo) de código (como el que escribiremos más adelante).\n",
        "\n",
        "Por ejemplo, si das click en donde dice \"+ Texto\" crearás una celda de texto. Inténtalo.\n",
        "\n"
      ]
    },
    {
      "cell_type": "markdown",
      "metadata": {
        "id": "xijRw_QRnFYW"
      },
      "source": [
        "### Jupyter y Google Colab\n",
        "\n",
        "Los notebooks no son otra cosa que archivos con teminación `ipynb`. Lo que hace que se vean bonitos es que hay aplicaciones especiales que pueden abrir estos archivos y darles formato, uno de ellos es [Google Colab](https://colab.research.google.com/) y otro es [Jupyter](https://jupyter.org/).\n",
        "\n",
        "En este curso estaremos usando google colab ya que este permite correr los notebooks en cualquier computadora necesidad de instalar nada, lo único que se requiere es tener un navegador. Sin embargo, la desventaja de usar Colab es que debes tener acceso a internet y que debes tener una cuenta de google.\n",
        "\n",
        "Si quieres correr los notebooks sin acceso a internet puedes instalar jupyter. Esta es una aplicación con muchas más funcionalidades, sin embargo, la desventaja que tiene es que tienes que instalar manualmente varias cosas y que puede hacerse muy lento si tu compu es lenta.\n",
        "\n"
      ]
    },
    {
      "cell_type": "markdown",
      "metadata": {
        "id": "FvFSC1r1nG2P"
      },
      "source": [
        "## Sintaxis básica de python\n",
        "\n",
        "Vamos a dejar el choro y empezar a ver cómo funciona python.\n"
      ]
    },
    {
      "cell_type": "markdown",
      "metadata": {
        "id": "1N3AY7QkVhl2"
      },
      "source": [
        "### ¡Hola mundo!\n",
        "\n",
        "Cuando uno aprende a programar generalmente inicia creando el programa [¡Hola mundo!](https://es.wikipedia.org/wiki/Hola_mundo). Este es un programa muy simple que solo imprime el texto `¡Hola mundo!` en la pantalla.\n",
        "\n",
        "En python este programa se ve de la siguiente manera:\n",
        "\n",
        "```py\n",
        "print(\"Hola mundo\")\n",
        "```\n",
        "\n",
        "Aquí lo que tenemos son sólo 2 cosas:\n",
        "\n",
        "1. la función `print()`, la cual imprime en la pantalla el texto que se le pase entre sus paréntesis, y\n",
        "2. una cadena de texto `\"¡Hola mundo!\"`, aquí son muy importantes las comillas, ya que esas le indican a python que eso no es parte de su lenguaje sino que es simplemente texto.\n",
        "\n",
        "Vamos a ejecutar el programa que está escrito en la siguiente celda.\n",
        "\n",
        "> 📢 **Ejecuta una celda** 📢<br>\n",
        "Hay 3 distintas formas para ejecutar una celda: </br>\n",
        "1. Da click en el botón de ejecutar a la izquierda de la celda ▶. </br>\n",
        "2. Coloca tu cursor sobre la celda y presiona `Ctrl + Enter` (ejecuta la celda y te deja en la misma celda) </br>\n",
        "3. Coloca tu cursor sobre la celda y presiona `Shift + Enter` (ejecuta la celda y te pasa a la siguiente celda) \n"
      ]
    },
    {
      "cell_type": "code",
      "execution_count": null,
      "metadata": {
        "id": "og9A-x4wXY0I"
      },
      "outputs": [],
      "source": [
        "print(\"¡Hola mundo!\")"
      ]
    },
    {
      "cell_type": "markdown",
      "metadata": {
        "id": "ourfvUhJcBr7"
      },
      "source": [
        "#### 📄 Ejercicio 1\n",
        "\n",
        "**Instrucciones**\n",
        "\n",
        "En la siguiente celda crea un programa que imprima el texto `\"¡Hola! Mi nombre es <TU NOMBRE>\"`.\n",
        "\n"
      ]
    },
    {
      "cell_type": "code",
      "execution_count": null,
      "metadata": {
        "id": "svkLjiaFebdw"
      },
      "outputs": [],
      "source": []
    },
    {
      "cell_type": "markdown",
      "metadata": {
        "id": "t08TTyOaUkXw"
      },
      "source": [
        "### Comentarios\n",
        "\n",
        "Cuando uno escribe código es útil dejar comentarios que expliquen que hace el código. En python todo lo que escribamos después del signo `#` es un comentario y no se ejecuta:"
      ]
    },
    {
      "cell_type": "code",
      "execution_count": null,
      "metadata": {
        "id": "AUrVULXhf9Ip"
      },
      "outputs": [],
      "source": [
        "# Este es un comentario\n",
        "\n",
        "### Este también es un comentario\n",
        "\n",
        "print(\"Hola\") # aquí también va un comentario después del código\n",
        "\n",
        "#print(\"Esta línea está comentada y no se va a ejecutar\")"
      ]
    },
    {
      "cell_type": "markdown",
      "metadata": {
        "id": "Xmb7qOOi-IOm"
      },
      "source": [
        "#### 📄 Ejercicio 2\n",
        "\n",
        "Descomenta las líneas que empiezan con `print()` para que las instrucciones se ejecuten.\n"
      ]
    },
    {
      "cell_type": "code",
      "execution_count": null,
      "metadata": {
        "id": "2jDOWOL1zba5"
      },
      "outputs": [],
      "source": [
        "##print(\"Quiero que esta linea se ejecute\")\n",
        "\n",
        "# Este es un comentario normal\n",
        "\n",
        "#print(\"Tabien queiro que esta linea se ejecute :)\")"
      ]
    },
    {
      "cell_type": "markdown",
      "metadata": {
        "id": "XCe-yXwpgSYy"
      },
      "source": [
        "### Operaciones aritméticas\n",
        "\n",
        "Escribir solo cosas es muy aburrido y poco útil. Algo en lo que python es más util es que es una calculadora muy poderosa.\n",
        "\n",
        "Para **sumar** dos números usamos el signo de más `+`"
      ]
    },
    {
      "cell_type": "code",
      "execution_count": null,
      "metadata": {
        "id": "FQ42DX4sjaBX"
      },
      "outputs": [],
      "source": [
        "30 + 12"
      ]
    },
    {
      "cell_type": "markdown",
      "metadata": {
        "id": "s2tdoKuujuRg"
      },
      "source": [
        "Para **restar** usamos el signo de menos `-`"
      ]
    },
    {
      "cell_type": "code",
      "execution_count": null,
      "metadata": {
        "id": "Yq6VqTuDjzhs"
      },
      "outputs": [],
      "source": [
        "35 - 19.5"
      ]
    },
    {
      "cell_type": "markdown",
      "metadata": {
        "id": "SUWGlSMTj4lF"
      },
      "source": [
        "Para **multiplicar** se usa el asterisco `*`"
      ]
    },
    {
      "cell_type": "code",
      "execution_count": null,
      "metadata": {
        "id": "Id6vqc3EkGyQ"
      },
      "outputs": [],
      "source": [
        "5 * 8"
      ]
    },
    {
      "cell_type": "markdown",
      "metadata": {
        "id": "xxtDJA3rkI_v"
      },
      "source": [
        "Para **dividir** se usa la diagonal `/`"
      ]
    },
    {
      "cell_type": "code",
      "execution_count": null,
      "metadata": {
        "id": "LLsF9gQdkTpf"
      },
      "outputs": [],
      "source": [
        "87 / 9"
      ]
    },
    {
      "cell_type": "markdown",
      "metadata": {
        "id": "BcxbEcFqkfH0"
      },
      "source": [
        "Para sacar un **exponente** se usan dos asteriscos `**`\n"
      ]
    },
    {
      "cell_type": "code",
      "execution_count": null,
      "metadata": {
        "id": "GfFvLW8Hkqb_"
      },
      "outputs": [],
      "source": [
        "2 ** 4"
      ]
    },
    {
      "cell_type": "markdown",
      "metadata": {
        "id": "i2-ViUQCO8KT"
      },
      "source": [
        "> ⚠️ **Advertencia** <br> En otros lenguajes de programación y calculadoras para sacar exponentes se usa el símbolo `^`. No obstante en Python este signo se usa para otra cosa y te puede dar resultados inesperados.\n",
        "\n",
        "Puedes hacer **expresiones** combinando vairas operaciones aritméticas. Por ejemplo, la operación $6 + 6^2$ la podemos calcular de la siguiente manera:"
      ]
    },
    {
      "cell_type": "code",
      "execution_count": null,
      "metadata": {
        "id": "YLumtpYHPSzu"
      },
      "outputs": [],
      "source": [
        "6 + 6 ** 2"
      ]
    },
    {
      "cell_type": "markdown",
      "metadata": {
        "id": "MT4VOEgiPYAC"
      },
      "source": [
        "La jerarquía en la que se hacen las operaciones es la misma que aprendiste en tus clases de matemáticas:\n",
        "\n",
        "*Primero se hacen los exponentes, luego las multiplicaciones y divisiones, y al final la suma y resta*.\n",
        "\n",
        "Por ejemplo, en la siguiente expresión primero se hace la división y luego la suma:"
      ]
    },
    {
      "cell_type": "code",
      "execution_count": null,
      "metadata": {
        "id": "4ZE_mGLtP6Ud"
      },
      "outputs": [],
      "source": [
        "40 + 20 / 4"
      ]
    },
    {
      "cell_type": "markdown",
      "metadata": {
        "id": "Phfy536rQGq6"
      },
      "source": [
        "Si quisiéramos hacer primero la suma y luego la división podemos usar paréntesis:"
      ]
    },
    {
      "cell_type": "code",
      "execution_count": null,
      "metadata": {
        "id": "-ly6OobiQTYt"
      },
      "outputs": [],
      "source": [
        "(40 + 20) / 4"
      ]
    },
    {
      "cell_type": "markdown",
      "metadata": {
        "id": "0O4Qpcrpmd1W"
      },
      "source": [
        "\n",
        "\n",
        "Podemos poner varias expresiones en distintas líneas de una misma celda:"
      ]
    },
    {
      "cell_type": "code",
      "execution_count": null,
      "metadata": {
        "id": "6wJDgrWrmdgb"
      },
      "outputs": [],
      "source": [
        "50 / 3\n",
        "37 + 30"
      ]
    },
    {
      "cell_type": "markdown",
      "metadata": {
        "id": "A91mqEWpmlxa"
      },
      "source": [
        "Sin embargo, nota como solo se imprime el resultado de la última expresión. Para que se imprima cada línea podemos meter las expresiones dentro de la función `print()`:"
      ]
    },
    {
      "cell_type": "code",
      "execution_count": null,
      "metadata": {
        "id": "U9QeCbAOmcG1"
      },
      "outputs": [],
      "source": [
        "print(37 + 30)\n",
        "\n",
        "print(50 / 3)"
      ]
    },
    {
      "cell_type": "markdown",
      "metadata": {
        "id": "qNfA1ZFpqEPE"
      },
      "source": [
        "#### 📄 Ejercicio 3\n",
        "\n",
        "**Instrucciones**\n",
        "\n",
        "Escribe una expresión para calcular cuántos segundos hay en 42 minutos con 42 segundos."
      ]
    },
    {
      "cell_type": "code",
      "execution_count": null,
      "metadata": {
        "id": "YiSL5IO4qDzq"
      },
      "outputs": [],
      "source": [
        "# Escribe aquí tu respuesta\n"
      ]
    },
    {
      "cell_type": "markdown",
      "metadata": {
        "id": "tEOpUHPZq5JY"
      },
      "source": [
        "**Instrucciones**\n",
        "\n",
        "Escribe una expresión para calcular cuántas millas hay en 10 kilómetros. Tip: hay 1.61 kilómetros en una milla"
      ]
    },
    {
      "cell_type": "code",
      "execution_count": null,
      "metadata": {
        "id": "EN5dY5Sbrrr1"
      },
      "outputs": [],
      "source": [
        "# Escribe aquí tu respuesta\n"
      ]
    },
    {
      "cell_type": "markdown",
      "metadata": {
        "id": "VtKvQPvXr-nd"
      },
      "source": [
        "**Instrucciones**\n",
        "\n",
        "El genoma humano contiene aproximadamente 3 100 000 000 pares de bases y el de las amoebas 670 000 000 000 pares de bases. ¿Cuántas veces es más grande el genoma de las amoebas al de los humanos? Escribe una expresión para responder a esta pregunta."
      ]
    },
    {
      "cell_type": "code",
      "execution_count": null,
      "metadata": {
        "id": "iKvMwcWet_gc"
      },
      "outputs": [],
      "source": [
        "# Escribe aquí tu respuesta\n"
      ]
    },
    {
      "cell_type": "markdown",
      "metadata": {
        "id": "c1RH5yvcQiYm"
      },
      "source": [
        "**Instrucciones**\n",
        "\n",
        "Escribe una expresión para obtener el resultado de las siguiente operaciones:\n",
        "\n",
        "- $365 - 200$\n",
        "- $\\frac{56 - 37}{12 \\times 8}$\n",
        "- $\\frac{20.3 + 37.44}{12} - 8$\n",
        "\n",
        "Usa la función `print()` para imprimir el resultado de todas de ellas en una misma celda."
      ]
    },
    {
      "cell_type": "code",
      "execution_count": null,
      "metadata": {
        "id": "Wf0EUmgLRJjD"
      },
      "outputs": [],
      "source": [
        "# Escribe aquí tu respuesta\n"
      ]
    },
    {
      "cell_type": "markdown",
      "metadata": {
        "id": "l9HXN4oxOYTQ"
      },
      "source": [
        "### Cadenas\n",
        "\n",
        "Además de poder hacer cosas con números python puede manipular **cadenas**. Las cadenas son un conjunto de letras reodeadas por comillas (`\"`):\n",
        "\n"
      ]
    },
    {
      "cell_type": "code",
      "execution_count": null,
      "metadata": {
        "id": "xT3ntFg-Sam7"
      },
      "outputs": [],
      "source": [
        "\"texto\""
      ]
    },
    {
      "cell_type": "markdown",
      "metadata": {
        "id": "1cw5dmWITxH4"
      },
      "source": [
        "Para escribir cadenas también podemos usar comillas simples (`'`):"
      ]
    },
    {
      "cell_type": "code",
      "execution_count": null,
      "metadata": {
        "id": "F8PLo6syT2yf"
      },
      "outputs": [],
      "source": [
        "'texto'"
      ]
    },
    {
      "cell_type": "markdown",
      "metadata": {
        "id": "2TZZ259RZS30"
      },
      "source": [
        "Si no le pones comillas python se va a confunir y te va a mandar un error:"
      ]
    },
    {
      "cell_type": "code",
      "execution_count": null,
      "metadata": {
        "id": "fdJHcgavZb2Q"
      },
      "outputs": [],
      "source": [
        "texto"
      ]
    },
    {
      "cell_type": "markdown",
      "metadata": {
        "id": "Eo2SRKD8ZdWs"
      },
      "source": [
        "Tus cadenas de texto pueden incluir letras, números y caracteres especiales:"
      ]
    },
    {
      "cell_type": "code",
      "execution_count": null,
      "metadata": {
        "id": "SuMp3gI8Zm9l"
      },
      "outputs": [],
      "source": [
        "\"¡Soy una cadena! y tengo en total 49 caracteres 🙂\""
      ]
    },
    {
      "cell_type": "markdown",
      "metadata": {
        "id": "Ej3hdBVlUHjU"
      },
      "source": [
        "Python nos permite hacer algunas operaciones con las cadenas.\n",
        "\n",
        "Primero, podemos **concatenar** cadenas (juntar varias en una sola) usando el simbolo de `+`:"
      ]
    },
    {
      "cell_type": "code",
      "execution_count": null,
      "metadata": {
        "id": "nxeVTvZJVYLL"
      },
      "outputs": [],
      "source": [
        "\"Primer cacho,\" + \" segundo cacho\" + \" y tercer cacho\""
      ]
    },
    {
      "cell_type": "markdown",
      "metadata": {
        "id": "hwSL0l39Xqi_"
      },
      "source": [
        "También podemos usar el operador `in`, el cual nos permite probar si una cadena está dentro de otra:"
      ]
    },
    {
      "cell_type": "code",
      "execution_count": null,
      "metadata": {
        "id": "H-uyyOorXznU"
      },
      "outputs": [],
      "source": [
        "\"Hola\" in \"Hola ¿cómo te va?\""
      ]
    },
    {
      "cell_type": "markdown",
      "metadata": {
        "id": "U1gHR2InYAvS"
      },
      "source": [
        "Esto nos retorna un valor de `True` (verdadero en inglés), que nos indica que la secuencia de letras `Hola` se encuentra dentro de la frase `Hola ¿cómo te va?`. Si yo buscara una secuencia de letras que no viene en la frase entonces me retornaría un valor de `False` (falso en inglés):"
      ]
    },
    {
      "cell_type": "code",
      "execution_count": null,
      "metadata": {
        "id": "_Up0voS6Ysyr"
      },
      "outputs": [],
      "source": [
        "\"Adiós\" in \"Hola ¿cómo te va?\""
      ]
    },
    {
      "cell_type": "markdown",
      "metadata": {
        "id": "e4cyt2OfXD0M"
      },
      "source": [
        "#### 📄 Ejercicio 4\n",
        "\n",
        "**Instrucciones**\n",
        "\n",
        "Concatena los siguientes segmentos de DNA en una sola secuencia usando el operador `+`:\n",
        "- `ATGCTGCCCTAC`\n",
        "- `TACGGGCATGGA`\n",
        "- `GGGTACAGAT`\n",
        "- `ATAGACATA`"
      ]
    },
    {
      "cell_type": "code",
      "execution_count": null,
      "metadata": {
        "id": "x3zIT8-7VbxI"
      },
      "outputs": [],
      "source": [
        "# Escribe aquí tu respuesta\n"
      ]
    },
    {
      "cell_type": "markdown",
      "metadata": {
        "id": "eXf9xCHcaipx"
      },
      "source": [
        "**Instrucciones**\n",
        "\n",
        "En una secuencia genética durante la traducción el codón de inicio mas común es `AUG`. Revisa si la siguiente secuencia de mRNA incluye el codón de inicio:\n",
        "\n",
        "`UAGAUCCCUUAAGACGUACGUAUCUGGAUCAUAAUUCUG`"
      ]
    },
    {
      "cell_type": "code",
      "execution_count": null,
      "metadata": {
        "id": "hMG_BsOHcFXf"
      },
      "outputs": [],
      "source": [
        "# Escribe aquí tu respuesta\n"
      ]
    },
    {
      "cell_type": "markdown",
      "metadata": {
        "id": "G681B8TGeZ1Y"
      },
      "source": [
        "### Variables\n",
        "\n",
        "Una de las características más útiles de los lenguajes de programación es que permiten que trabajemos con variables. Una **variable** es un nombre que se refiere a un valor.\n",
        "\n",
        "Para **asignar** una variable uno debe poner:\n",
        "1. un nombre de variable a la izquierda,\n",
        "2. el operador `=` y\n",
        "3. un valor a la derecha.\n",
        "\n",
        "Por ejemplo:"
      ]
    },
    {
      "cell_type": "code",
      "execution_count": null,
      "metadata": {
        "id": "JphyFL41eY_O"
      },
      "outputs": [],
      "source": [
        "mi_edad = 20\n",
        "\n",
        "pi = 3.141592\n",
        "\n",
        "nombre = \"Shrek\""
      ]
    },
    {
      "cell_type": "markdown",
      "metadata": {
        "id": "TGPjreJxlc-h"
      },
      "source": [
        "Nota que al ejecutar la celda anterior no tuvimos ninguna salida. Sin embargo, yo puedo acceder a los valores después únicamente usando el nombre de la variable (para el valor de todas y no solo de la última, podemos ponerlas dentro de la función `print()`:"
      ]
    },
    {
      "cell_type": "code",
      "execution_count": null,
      "metadata": {
        "id": "7toLJurjltvZ"
      },
      "outputs": [],
      "source": [
        "print(mi_edad)\n",
        "print(pi)\n",
        "print(nombre)"
      ]
    },
    {
      "cell_type": "markdown",
      "metadata": {
        "id": "ceZSKLIDfe7m"
      },
      "source": [
        "Además de asignar valores uno puede asignarle a una variable el resultado de una expresión:"
      ]
    },
    {
      "cell_type": "code",
      "execution_count": null,
      "metadata": {
        "id": "DU-FwJfCgFmI"
      },
      "outputs": [],
      "source": [
        "suma = 34 + 20\n",
        "\n",
        "secuencia_01 = \"UCG\" + \"AAA\" + \"CUC\" + \"UCA\"\n",
        "\n",
        "print(suma)\n",
        "print(secuencia_01)"
      ]
    },
    {
      "cell_type": "markdown",
      "metadata": {
        "id": "s9f78J0yg387"
      },
      "source": [
        "Los nombres de las variables pueden ser tan largos como uno quiera. Pueden incluir letras (mayúsculas o minúsculas) y números, sin embargo, hay algunas restricciones:\n",
        "\n",
        "- Aunque algunas veces python acepta nombres de variables con acentos y letras como la `ñ`, **no los utilices**. Esto debido a que no todas las versiones y configuraciones de python los aceptan.\n",
        "- Los nombres no pueden incluir espacios ni caracteres especiales (`!`, `+`, `.` , `#`, `@`, etc.). El único caracter especial que puede aceptar es el guión bajo (`_`).\n",
        "- Los nombres no pueden empezar con números.\n",
        "- Los nombres de variables no pueden ser *palabras clave* que python utiliza en su sintaxis. Algunas de estas palabras reservadas son: `def`, `return`, `global`, `class`, `False`, `True`, `None`, `not`, `if`, `del` entre varias otras.\n",
        "\n",
        "Además de esto es muuuy recomendable que las variables usen **nombres descriptivos**, es decir, que el nombre de la variable nos indique qué es el valor que contine. Por ejemplo, si mi variable representa el número de conejos en mi estudio, es mejor crear una variable que se llame `num_conejos` a una que se llame `n` ya que este último nombre es muy ambiguo y hace más dificil de leer el código.\n",
        "\n",
        "También nota que los nombres de variable son sensibles a las mayúsculas y minúsculas. Por ejemplo, la variable `Nombre` y `nombre` son distintas para python.\n",
        "\n",
        "Las variables son muy útiles ya que uno las puede usar para escribir otras expresiones:\n"
      ]
    },
    {
      "cell_type": "code",
      "execution_count": null,
      "metadata": {
        "id": "d5qLTPAdkjUb"
      },
      "outputs": [],
      "source": [
        "mi_edad + 30"
      ]
    },
    {
      "cell_type": "code",
      "execution_count": null,
      "metadata": {
        "id": "KZFPaxtzkn0B"
      },
      "outputs": [],
      "source": [
        "\"Mi nombre es\" + \" \" + nombre"
      ]
    },
    {
      "cell_type": "markdown",
      "metadata": {
        "id": "sEhodGInkxPG"
      },
      "source": [
        "Y se pueden crear nuevas variables usando otras variables:"
      ]
    },
    {
      "cell_type": "code",
      "execution_count": null,
      "metadata": {
        "id": "tHa5npo6k0w_"
      },
      "outputs": [],
      "source": [
        "mi_futura_edad = mi_edad + 30\n",
        "\n",
        "secuencia_02 = secuencia_01 + \"UUUGCAGACUGACGGA\"\n",
        "\n",
        "print(mi_futura_edad)\n",
        "print(secuencia_02)"
      ]
    },
    {
      "cell_type": "markdown",
      "metadata": {
        "id": "oSlqnuGcokBu"
      },
      "source": [
        "#### 📄 Ejercicio 5\n",
        "\n",
        "**Instrucciones**\n",
        "\n",
        "1. Define una variable `genero` con el valor `\"Ambystoma\"`.\n",
        "2. Define tres variables `nom_especifico_1`, `nom_especifico_2`, `nom_especifico_3`, con los valores `\"mexicanum\"`, `\"jeffersonianum\"`, `\"andersoni\"`\n",
        "3. Usa print para imprimir el nombre de las 3 especies: `Ambysoma mexicanum`, `Ambysoma jeffersonianum` y `Ambysoma andersoni`\n",
        "\n"
      ]
    },
    {
      "cell_type": "code",
      "execution_count": null,
      "metadata": {
        "id": "oBCPZBw7uB12"
      },
      "outputs": [],
      "source": [
        "# Define la variable genero\n",
        "\n",
        "\n",
        "# Define tus variables nom_especifico_1, nom_especifico_2, nom_especifico_3\n",
        "\n",
        "\n",
        "# Imprime los nombres de tus especies\n",
        "\n",
        "\n"
      ]
    },
    {
      "cell_type": "markdown",
      "metadata": {
        "id": "h-030bobcIzK"
      },
      "source": [
        "### Funciones\n",
        "\n",
        "Las **funciones** son un conjunto de instrucciones agrupadas bajo un nombre. Python incluye por defecto varias funciones que podemos usar (más adelante veremos que nosotros podemos también definir nuestras propias funciones). Para usar o **llamar a una función** uno debe poner el nombre de esta seguida por paréntesis (sin espacios):\n",
        "\n",
        "```\n",
        "nombre_funcion()\n",
        "```\n",
        "\n",
        "Una función de python que ya conocemos es `print()`. Si a esta la llamamos sin ponerle nada entre los paréntesis entonces solo imprime una linea en blanco:\n"
      ]
    },
    {
      "cell_type": "code",
      "execution_count": null,
      "metadata": {
        "id": "T-dnxXxDvrNH"
      },
      "outputs": [],
      "source": [
        "print()"
      ]
    },
    {
      "cell_type": "markdown",
      "metadata": {
        "id": "T_d44hiAxiY7"
      },
      "source": [
        "Sin embargo, también le podemos pasar un argumento a una función. Un **argumento** es un valor que va a afectar cómo se comporta una función. Por ejemplo, si le pasamos un valor a `print()` ya sea una cadena o un número, entonces lo imprime:\n"
      ]
    },
    {
      "cell_type": "code",
      "execution_count": null,
      "metadata": {
        "id": "9zeSyWkLvrsR"
      },
      "outputs": [],
      "source": [
        "print(\"Soy el argumento\")\n",
        "print(100)"
      ]
    },
    {
      "cell_type": "markdown",
      "metadata": {
        "id": "Y_S8IJ6zyLi_"
      },
      "source": [
        "Algunas funciones pueden recibir más de un argumento. Dentro de los paréntesis cada argumento se separa por una coma:\n",
        "\n",
        "```\n",
        "nombre_funcion(agrumento1, agrumento2, agrumento3)\n",
        "```\n",
        "\n",
        "Por ejemplo, `print()` puede recibir más de un argumento. Lo que hace es imprimir todos sus argumentos en una sola salida:"
      ]
    },
    {
      "cell_type": "code",
      "execution_count": null,
      "metadata": {
        "id": "X3GS7it-yuCV"
      },
      "outputs": [],
      "source": [
        "argumento_1 = \"Primer argumento\"\n",
        "argumento_2 = \"Segundo argumento\"\n",
        "argumento_3 = \"Tercer argumento\"\n",
        "\n",
        "print(argumento_1, argumento_2, argumento_3)"
      ]
    },
    {
      "cell_type": "markdown",
      "metadata": {
        "id": "IAiTee0dzO7Y"
      },
      "source": [
        "`print()` además puede juntar salidas de distinto tipo (cadenas, números, etc):\n"
      ]
    },
    {
      "cell_type": "code",
      "execution_count": null,
      "metadata": {
        "id": "vsnMYcu-zKny"
      },
      "outputs": [],
      "source": [
        "print(1, \"uno\", 2, \"dos\")"
      ]
    },
    {
      "cell_type": "markdown",
      "metadata": {
        "id": "vksgJxGyBMdK"
      },
      "source": [
        "Además de estos argumentos existen otro tipo de argumentos en python que son los **argumentos con nombre**. Estos también se ponen en los paréntesis de la función solo que tienen un nombre y les asignamos un valor:\n",
        "\n",
        "```\n",
        "nombre_funcion(argumento_1, argumento_2, nombre_argumento_3 = valor_argumento_3, nombre_argumento_4 = valor_argumento_4)\n",
        "```\n",
        "\n",
        "Por ejemplo, la función `print()` tiene un argumento que se llama `sep` que recibe una cadena que indica que usamos para separar los valores que queremos imprimir:"
      ]
    },
    {
      "cell_type": "code",
      "execution_count": null,
      "metadata": {
        "id": "nN9MowzACe5T"
      },
      "outputs": [],
      "source": [
        "print(\"Primer argumento\", \"Segundo argumento\", \"Tercer argumento\", sep = \"---\")\n",
        "print(\"Primer argumento\", \"Segundo argumento\", \"Tercer argumento\", sep = \" y luego \")"
      ]
    },
    {
      "cell_type": "markdown",
      "metadata": {
        "id": "1Ty9pE2gz2sr"
      },
      "source": [
        "Otra función muy útil en python es la función `len()` que te arroja la longitud de una cadena o lista (estas luego las veremos):"
      ]
    },
    {
      "cell_type": "code",
      "execution_count": null,
      "metadata": {
        "id": "_7tmy5zE0Jm_"
      },
      "outputs": [],
      "source": [
        "len(\"GATTACAGTACGACGTAGGGTACCA\")"
      ]
    },
    {
      "cell_type": "markdown",
      "metadata": {
        "id": "-z67C1Vo1Hr5"
      },
      "source": [
        "Uno puede *llamar funciones* dentro de otras funciones:"
      ]
    },
    {
      "cell_type": "code",
      "execution_count": null,
      "metadata": {
        "id": "b2g8tFEY1exJ"
      },
      "outputs": [],
      "source": [
        "secuencia = \"GGTACAGTACGGGACCCTGGCTG\"\n",
        "\n",
        "print(\"La longitud de la secuencia\",secuencia, \"es de\", len(secuencia), \"pares de bases\")"
      ]
    },
    {
      "cell_type": "markdown",
      "metadata": {
        "id": "vxAkqvwi1y_y"
      },
      "source": [
        "Otro ejemplo de función es la función `round()` que redondea el valor que le pasemos:"
      ]
    },
    {
      "cell_type": "code",
      "execution_count": null,
      "metadata": {
        "id": "qetWU-fW2NJx"
      },
      "outputs": [],
      "source": [
        "print(round(33.3))\n",
        "print(round(55.5))\n",
        "print(round(0.7))"
      ]
    },
    {
      "cell_type": "markdown",
      "metadata": {
        "id": "1jnydArq2goI"
      },
      "source": [
        "#### 📄 Ejercicio 6\n",
        "\n",
        "**Instrucciones**\n",
        "\n",
        "Para cada una de las siguentes secuencias imprime un texto que diga lo siguiente:\n",
        "\n",
        "```\n",
        "secuencia: <VALOR DE LA SECUENCIA>; longitud: <LONGITUD DE LA SECUENCIA>`\n",
        "```\n",
        "\n",
        "Por ejemplo, para la secuencia \"TACGGGATA\" debe imprimir:\n",
        "\n",
        "```\n",
        "secuencia: TACGGGATA; longitud: 9\n",
        "```\n"
      ]
    },
    {
      "cell_type": "code",
      "execution_count": null,
      "metadata": {
        "id": "zseIASjw2PDW"
      },
      "outputs": [],
      "source": [
        "# secuencias\n",
        "secuencia_01 = \"GAGACA\"\n",
        "secuencia_02 = \"CTACCGATTTAGCCC\"\n",
        "\n",
        "\n",
        "# imprime cada secuencia y su longitud\n",
        "\n",
        "\n",
        "\n"
      ]
    },
    {
      "cell_type": "markdown",
      "metadata": {
        "id": "mXO5QKkw5b8T"
      },
      "source": [
        "### Importar librerias\n",
        "\n",
        "Además de las funciones básicas python incluye tambien podemos importar muchas más funciones adicionales. Para eso podemos importar el módulo `math`:"
      ]
    },
    {
      "cell_type": "code",
      "execution_count": null,
      "metadata": {
        "id": "4kCqbNGM7aQ-"
      },
      "outputs": [],
      "source": [
        "import math"
      ]
    },
    {
      "cell_type": "markdown",
      "metadata": {
        "id": "jmzbQeKm7cn-"
      },
      "source": [
        "Esta librería incluye varias funciones matemáticas comunes.\n",
        "\n",
        "Por ejemplo incluye funciones para sacar la raíz cuadrada:\n",
        "\n",
        "$$\\sqrt{25} = 5$$\n"
      ]
    },
    {
      "cell_type": "code",
      "execution_count": null,
      "metadata": {
        "id": "PenehzJD9QJV"
      },
      "outputs": [],
      "source": [
        "math.sqrt(25)"
      ]
    },
    {
      "cell_type": "markdown",
      "metadata": {
        "id": "yWepPJcW9PNC"
      },
      "source": [
        "\n",
        "\n",
        "o para sacar el logaritmo de un número:\n",
        "\n",
        "$$\\log_{10} 100 = 2$$"
      ]
    },
    {
      "cell_type": "code",
      "execution_count": null,
      "metadata": {
        "id": "b5IyjnF67hBF"
      },
      "outputs": [],
      "source": [
        "math.log(100, 10)"
      ]
    },
    {
      "cell_type": "markdown",
      "metadata": {
        "id": "adIW8ouh9U5l"
      },
      "source": [
        "También este módulo incluye algunos valores muy útiles como el valor de $\\pi$:"
      ]
    },
    {
      "cell_type": "code",
      "execution_count": null,
      "metadata": {
        "id": "Za6X89g-8mK2"
      },
      "outputs": [],
      "source": [
        "math.pi"
      ]
    },
    {
      "cell_type": "markdown",
      "metadata": {
        "id": "ynLYNdns9p7X"
      },
      "source": [
        "#### 📄 Ejercicio 7\n",
        "\n",
        "Calcula el área del tronco de un árbol cuyo radio es de 20 cm."
      ]
    },
    {
      "cell_type": "code",
      "execution_count": null,
      "metadata": {
        "id": "f_ZY-2_B-WfT"
      },
      "outputs": [],
      "source": [
        "# Escribe aquí tu respuesta\n"
      ]
    },
    {
      "cell_type": "markdown",
      "metadata": {
        "id": "OnLKcPa1EDZf"
      },
      "source": [
        "### Listas\n",
        "\n",
        "Además de poder trabajar con valores sueltos podemos hacer listas. Las **listas** son secuencias de valores (números o cadenas). Estas las creamos poniendo los valores que queremos entre corchetes cada uno separado por comas:"
      ]
    },
    {
      "cell_type": "code",
      "execution_count": null,
      "metadata": {
        "id": "oXHyq7ahSJ0A"
      },
      "outputs": [],
      "source": [
        "lista_de_numeros = [3, 5, 10, 9, 7]\n",
        "\n",
        "lista_del_super = [\"queso\", \"bananas\", \"galletas\", \"detergente\"]\n",
        "\n",
        "print(lista_de_numeros)\n",
        "print(lista_del_super)"
      ]
    },
    {
      "cell_type": "markdown",
      "metadata": {
        "id": "UB3-a-2HSPR5"
      },
      "source": [
        "Tambien podemos hacer listas usando los valores que tienen otras variables:"
      ]
    },
    {
      "cell_type": "code",
      "execution_count": null,
      "metadata": {
        "id": "SYehCREWSnIF"
      },
      "outputs": [],
      "source": [
        "secuencia_1 = \"CATAGACA\"\n",
        "secuencia_2 = \"TACCCCGA\"\n",
        "secuencia_3 = \"GATTACCA\"\n",
        "\n",
        "DNA = [secuencia_1, secuencia_2, secuencia_3]\n",
        "\n",
        "print(DNA)"
      ]
    },
    {
      "cell_type": "markdown",
      "metadata": {
        "id": "v_AsUAipGR5s"
      },
      "source": [
        "Algo muy útil con las listas es que podemos acceder a sus elementos individuales.\n",
        "\n",
        "Imagínate que las listas son como una secuencia de casilleros cada uno con un número. El primero es el casillero número 0, el seguno el casillero número 1, el tercero el 2, y así sucesivamente. Y en cada casillero guardamos un valor.\n",
        "\n",
        "\n",
        "> ⚠️ **Adevertencia** ⚠️ <br> Nota como iniciamos enumerando los \"casilleros\" o los índices con el número 0 en lugar del 1. Esto es algo muy común en varios lenguajes de programación. Sin embargo, en otros lenguajes (como en R) los índices se empiezan a contar desde el 1.\n",
        "\n",
        "Para acceder a un elemento de una lista podemos poner el nombre de la lista y entre corchetes poner el número del índice que queremos acceder:\n",
        "\n",
        "\n"
      ]
    },
    {
      "cell_type": "code",
      "execution_count": null,
      "metadata": {
        "id": "4J2pyUtmFIQ_"
      },
      "outputs": [],
      "source": [
        "lista = [\"primer elemento\", \"segundo elemento\", \"tercer elemento\", \"cuarto elemento\"]\n",
        "\n",
        "# Acceder al primer elemento de la lista de números\n",
        "lista[0]"
      ]
    },
    {
      "cell_type": "code",
      "execution_count": null,
      "metadata": {
        "id": "PtiHI2ASIBPp"
      },
      "outputs": [],
      "source": [
        "# Acceder al tercer elemento de la lista de números\n",
        "lista[2]"
      ]
    },
    {
      "cell_type": "markdown",
      "metadata": {
        "id": "Dr1MQk_GIn3j"
      },
      "source": [
        "Los elementos que obtengamos de nuestras listas podemos usarlos en otras expresiones y funciones:"
      ]
    },
    {
      "cell_type": "code",
      "execution_count": null,
      "metadata": {
        "id": "Wrbd1K2_Ian1"
      },
      "outputs": [],
      "source": [
        "print(\"El primer elemento de mi lista del super es:\", lista_del_super[0])\n",
        "\n",
        "suma = lista_de_numeros[0] + lista_de_numeros[1]\n",
        "\n",
        "print(\"La suma del primer y segundo elemento de mi lista de números es:\", suma)"
      ]
    },
    {
      "cell_type": "markdown",
      "metadata": {
        "id": "YW8vqxTEJHjk"
      },
      "source": [
        "#### 📄 Ejercicio 8\n",
        "\n",
        "**Instrucciones**\n",
        "\n",
        "1. Crea una lista con 5 de tus especies favoritas.\n",
        "2. Para cada especie imprime el siguiente texto: `Una de mis especies favoritas es <ESPECIE>`"
      ]
    },
    {
      "cell_type": "code",
      "execution_count": null,
      "metadata": {
        "id": "-oksxlXQKAI_"
      },
      "outputs": [],
      "source": [
        "# Define tu lista con tus especies\n",
        "\n",
        "\n",
        "# Imprime cada una de tus especies favoritas\n",
        "\n",
        "\n",
        "\n"
      ]
    },
    {
      "cell_type": "markdown",
      "metadata": {
        "id": "hhv_eBrf_bH7"
      },
      "source": [
        "### Repetrir cosas\n",
        "\n",
        "La programación es muy útil cuando queremos hacer tareas repetitivas.\n",
        "\n",
        "Por ejemplo, si yo quiero imprimir el mismo texto varias veces solo cambiando algunos elementos podría hacer lo siguiente:"
      ]
    },
    {
      "cell_type": "code",
      "execution_count": null,
      "metadata": {
        "id": "fyD3lYVuLBfK"
      },
      "outputs": [],
      "source": [
        "lista_del_super = [\"queso\", \"bananas\", \"galletas\", \"detergente\", \"atún\", \"manzanas\", \"frijoles\"]\n",
        "\n",
        "print(\"Debo comprar\", lista_del_super[0])\n",
        "print(\"Debo comprar\", lista_del_super[1])\n",
        "print(\"Debo comprar\", lista_del_super[2])\n",
        "print(\"Debo comprar\", lista_del_super[3])\n",
        "print(\"Debo comprar\", lista_del_super[4])\n",
        "print(\"Debo comprar\", lista_del_super[5])\n",
        "print(\"Debo comprar\", lista_del_super[6])"
      ]
    },
    {
      "cell_type": "markdown",
      "metadata": {
        "id": "2TMEDe5GLhZt"
      },
      "source": [
        "Sin embargo, esto es muy repetitivo y tedioso. La programación nos permite hacer **iteraciones** o **repeticiones** de una misma cosa. Para eso existen las expresiones `for`, las cuales se ven de la siguiente manera:\n",
        "\n",
        "```py\n",
        "for elemento in iterable:\n",
        "    hacer_algo\n",
        "    hacer_otra_cosa\n",
        "```\n",
        "\n",
        "Los siguientes elementos son muy importantes:\n",
        "\n",
        "- el `for` y el `in` son palabras del lenguaje de python\n",
        "- `elemento` es el nombre de una variable local\n",
        "- `iterable` es el nombre de la lista u otro objeto iterable (luego veremos qué es esto)\n",
        "- los dos puntos `:` son **muy importantes**\n",
        "- identado podemos poner todas las instrucciones que queremos que se hagan en cada iteración\n",
        "\n",
        "Por ejemplo si yo quiero imprimir los números del 1 al 10 puedo hacer lo siguiente:"
      ]
    },
    {
      "cell_type": "code",
      "execution_count": null,
      "metadata": {
        "id": "-ym5qrtGLeCK"
      },
      "outputs": [],
      "source": [
        "for num in [1,2,3,4,5,6,7,8,9,10]:\n",
        "    print(num)"
      ]
    },
    {
      "cell_type": "markdown",
      "metadata": {
        "id": "G39xEXwOMmgO"
      },
      "source": [
        "O si yo quiero imprimir cada elemento de la lista del super que definí arriba pudo hacer lo siguiente:\n"
      ]
    },
    {
      "cell_type": "code",
      "execution_count": null,
      "metadata": {
        "id": "Qr2ARwDWNCsV"
      },
      "outputs": [],
      "source": [
        "lista_del_super = [\"queso\", \"bananas\", \"galletas\", \"detergente\", \"atún\", \"manzanas\", \"frijoles\"]\n",
        "\n",
        "\n",
        "for cosa in lista_del_super:\n",
        "    print(\"Debo comprar\", cosa)"
      ]
    },
    {
      "cell_type": "markdown",
      "metadata": {
        "id": "oeyLmiwQNS_U"
      },
      "source": [
        "Nota como `num` y `cosa` son variables que para cada iteración van tomando el valor de cada elemento de nuestra lista y nosotros podemos usarla en otras expresiones y funciones.\n",
        "\n",
        "Podemos hacer cualquier tipo de manipulaciones con los valores de nuestra lista, por ejemplo:"
      ]
    },
    {
      "cell_type": "code",
      "execution_count": null,
      "metadata": {
        "id": "a3H8Cw7RQAr3"
      },
      "outputs": [],
      "source": [
        "for num in [1, 2, 3, 4]:\n",
        "    cuadrado = num ** 2\n",
        "    print(\"El número es\", num, \"y su cuadrado es\", cuadrado)"
      ]
    },
    {
      "cell_type": "markdown",
      "metadata": {
        "id": "8oyGzRNlPzkp"
      },
      "source": [
        "Nota como todas las intrucciones que queremos que se realicen en cada iteración deben estár identadas.\n",
        "\n",
        "Para hacer iteraciones o repeticiones sobre valores numéricos en lugar de hacer una lista con todos los números como le hicimos arriba, uno puede usar en su lugar la función `range(num_final)`, la cual nos genera una secuencia de números:"
      ]
    },
    {
      "cell_type": "code",
      "execution_count": null,
      "metadata": {
        "id": "1CTjkBFUPBj0"
      },
      "outputs": [],
      "source": [
        "for num in range(16):\n",
        "    print(num)"
      ]
    },
    {
      "cell_type": "markdown",
      "metadata": {
        "id": "lYsumeR2PIKc"
      },
      "source": [
        "Nota como range nos genera una secuencia de números desde el 0 hasta el número que le pasemos menos uno, en este caso del 0 al 9. Esto es un poco confuso al inicio, pero es muy conveniente para trabajar con los índices de las listas ya que recordemos que los índices inician en el 0.\n",
        "\n",
        "Otra forma como podríamos imprimir nuestra lista del super es la siguiente usando las funciones `range()` y `len()`:"
      ]
    },
    {
      "cell_type": "code",
      "execution_count": null,
      "metadata": {
        "id": "mNoO7qVcPd1T"
      },
      "outputs": [],
      "source": [
        "lista_del_super = [\"queso\", \"bananas\", \"galletas\", \"detergente\", \"atún\", \"manzanas\", \"frijoles\"]\n",
        "\n",
        "for i in range(len(lista_del_super)):\n",
        "    print(\"Debo comprar\", lista_del_super[i])"
      ]
    },
    {
      "cell_type": "markdown",
      "metadata": {
        "id": "se8Ba6pYfxax"
      },
      "source": [
        "También podemos usar `range` con una variable cualquiera si queremos repetir algo varias veces aunque no usemos la variable. Por ejemplo, si yo solo quiero repetir el texto \"Hola\" 7 veces puedo hacer lo siguiente:"
      ]
    },
    {
      "cell_type": "code",
      "execution_count": null,
      "metadata": {
        "id": "a9u3RqpygCAI"
      },
      "outputs": [],
      "source": [
        "for i in range(7):\n",
        "    print(\"Hola\")"
      ]
    },
    {
      "cell_type": "markdown",
      "metadata": {
        "id": "Ps4iAoiKQ9HU"
      },
      "source": [
        "#### 📄 Ejercicio 9\n",
        "\n",
        "**Instrucciones**\n",
        "\n",
        "1. Crea una lista con 5 de tus especies favoritas\n",
        "2. Usando una expresión `for` imprime para cada una el texto: `Una de mis especies favoritas es <ESPECIE>`."
      ]
    },
    {
      "cell_type": "code",
      "execution_count": null,
      "metadata": {
        "id": "igcLUN4sRfna"
      },
      "outputs": [],
      "source": [
        "# Define la lista con tus especies favoritas\n",
        "\n",
        "\n",
        "# Crea una expresión for para imprimir cada una de tus especies favoritas\n",
        "\n",
        "\n",
        "\n"
      ]
    },
    {
      "cell_type": "markdown",
      "metadata": {
        "id": "YakPAChPRvKi"
      },
      "source": [
        "**Instrucciones**\n",
        "\n",
        "Para cada una de las siguentes secuencias usa una expresión `for` para imprir un texto que diga lo siguiente:\n",
        "\n",
        "```\n",
        "secuencia: <VALOR DE LA SECUENCIA>; longitud: <LONGITUD DE LA SECUENCIA>`\n",
        "```\n",
        "\n",
        "Por ejemplo, para la secuencia \"TACGGGATA\" debe imprimir:\n",
        "\n",
        "```\n",
        "secuencia: TACGGGATA; longitud: 9\n",
        "```"
      ]
    },
    {
      "cell_type": "code",
      "execution_count": null,
      "metadata": {
        "id": "TLZCFwmtTCud"
      },
      "outputs": [],
      "source": [
        "secuencia_01 = \"GAGGGATGCCGACGT\"\n",
        "secuencia_02 = \"CCAGTACAGTACGATCAT\"\n",
        "secuencia_03 = \"TACGTAGGACCTTGACGATCAGTCGTCAGTA\"\n",
        "secuencia_04 = \"AACCTGTGTGACGCCGCGATGCGTGAGCTAGCTCCACTAGCTACGT\"\n",
        "secuencia_05 = \"CTGTGGTTGGCCCCGAGT\"\n",
        "\n",
        "# Crea una lista con las secuencias\n",
        "\n",
        "\n",
        "# Imprime la secuencias y su longitud con una expresión for\n",
        "\n",
        "\n"
      ]
    },
    {
      "cell_type": "markdown",
      "metadata": {
        "id": "nMEU9-Sk-Y83"
      },
      "source": [
        "### Dibujar\n",
        "\n",
        "Para seguir aprendiendo a usar funciones, aprender algunos conceptos más y empezar a pensar como programadores de una forma más divertida vamos a utilizar un módulo que nos va a permitir hacer dibujos.\n",
        "\n",
        "Para eso vamos a importar un módulo que se llama `jupyturtle`. A diferencia del módulo `math` que usamos hace rato, este lo tenemos que instalar. Existen varias formas de instalar paquetes una de las más comunes es usando el gestor de paquetes `pip`. Sin embargo, para esta práctica vamos a instalarlo manualmente. Eso es lo que se hace en la siguiente celda, solo ejecútala y no te preocupes en entender qué hace."
      ]
    },
    {
      "cell_type": "code",
      "execution_count": null,
      "metadata": {
        "id": "qT79lFWHW_Ye"
      },
      "outputs": [],
      "source": [
        "# En esta celda se descarga el módulo de jupyturle\n",
        "# tomado de: https://allendowney.github.io/ThinkPython/chap04.html\n",
        "\n",
        "from os.path import basename, exists\n",
        "\n",
        "def download(url):\n",
        "    filename = basename(url)\n",
        "    if not exists(filename):\n",
        "        from urllib.request import urlretrieve\n",
        "\n",
        "        local, _ = urlretrieve(url, filename)\n",
        "        print(\"Downloaded \" + str(local))\n",
        "    return filename\n",
        "\n",
        "download('https://github.com/ramalho/jupyturtle/releases/download/2024-03/jupyturtle.py');"
      ]
    },
    {
      "cell_type": "markdown",
      "metadata": {
        "id": "4Tfh1Jb4Xewq"
      },
      "source": [
        "Para usar el módulo primero tenemos que importarlo con `import`:"
      ]
    },
    {
      "cell_type": "code",
      "execution_count": null,
      "metadata": {
        "id": "x7aZf2NIXxOG"
      },
      "outputs": [],
      "source": [
        "import jupyturtle"
      ]
    },
    {
      "cell_type": "markdown",
      "metadata": {
        "id": "0eN9ZafbX80N"
      },
      "source": [
        "Ahora podemos usar las funciones para dibujar definidas en el módulo de la siguiente manera:"
      ]
    },
    {
      "cell_type": "code",
      "execution_count": null,
      "metadata": {
        "id": "JHAyJUfgYFgX"
      },
      "outputs": [],
      "source": [
        "jupyturtle.make_turtle()\n",
        "jupyturtle.forward(50)"
      ]
    },
    {
      "cell_type": "markdown",
      "metadata": {
        "id": "sxd9zqX0YOq-"
      },
      "source": [
        "Aquí estamos usando dos funciones:\n",
        "\n",
        "1. `make_turtle` es una función que crea un lienzo donde vamos a dibujar (el cuadro gris) y tambien crea una *tortuga* (el circulo con el tiángulo) que va a estar posicionada en el centro del lienzo.\n",
        "2. `forward` es una función que mueve a la tortuga una distancia dada (100 unidades en este caso) en la dirección que la torgua esté apuntando (la dirección de la tortuga está dada por el triganulito).\n",
        "\n",
        "Nota como para usar las funciones tenemos que escribir el nombre del módulo y luego con un punto `.` poner el nombre de la función. Esta es la forma en la que python sabe que debe buscar las funciones en el módulo jupyturtle. Sin embargo, para no tener que andar escribiendo `jupyturtle.` todo el tiempo podemos importar todas las funciones de un jalón de la siguiente manera (no te procupes por entender esto en ese momento):"
      ]
    },
    {
      "cell_type": "code",
      "execution_count": null,
      "metadata": {
        "id": "-Ac_KMTxYNuF"
      },
      "outputs": [],
      "source": [
        "from jupyturtle import *"
      ]
    },
    {
      "cell_type": "markdown",
      "metadata": {
        "id": "Ra27pPCkZdQD"
      },
      "source": [
        "Ahora podemos hacer lo mismo de arriba pero sin escribir tanto:"
      ]
    },
    {
      "cell_type": "code",
      "execution_count": null,
      "metadata": {
        "id": "sMikPoQJYJ2O"
      },
      "outputs": [],
      "source": [
        "make_turtle()\n",
        "forward(50)"
      ]
    },
    {
      "cell_type": "markdown",
      "metadata": {
        "id": "lC6bcPN6Zsx1"
      },
      "source": [
        "`jupytutle` tambien nos da las funciones `left` y `rigth` que le indican a la tortuga que gire cierta cantidad de ángulos (en grados) a la izquierda o derecha respectivamente. Por ejemplo podemos pedirle a la tortuga que gire 90 grados a la izquierda y avance de la siguiente manera:"
      ]
    },
    {
      "cell_type": "code",
      "execution_count": null,
      "metadata": {
        "id": "waPX5k00Zr3j"
      },
      "outputs": [],
      "source": [
        "make_turtle()\n",
        "\n",
        "forward(50)\n",
        "left(90)\n",
        "forward(50)"
      ]
    },
    {
      "cell_type": "markdown",
      "metadata": {
        "id": "J_M200WsaeeR"
      },
      "source": [
        "Podemos dibujar un cuadrado si repretimos la instrucción 4 veces:"
      ]
    },
    {
      "cell_type": "code",
      "execution_count": null,
      "metadata": {
        "id": "Rcx_-fChZjkF"
      },
      "outputs": [],
      "source": [
        "make_turtle()\n",
        "\n",
        "forward(50)\n",
        "left(90)\n",
        "\n",
        "forward(50)\n",
        "left(90)\n",
        "\n",
        "forward(50)\n",
        "left(90)\n",
        "\n",
        "forward(50)\n",
        "left(90)"
      ]
    },
    {
      "cell_type": "markdown",
      "metadata": {
        "id": "o5FlZZ98nnoq"
      },
      "source": [
        "Para no repetir tanto código podemos usar una expresión `for`:"
      ]
    },
    {
      "cell_type": "code",
      "execution_count": null,
      "metadata": {
        "id": "e5Km-bZUbf2h"
      },
      "outputs": [],
      "source": [
        "make_turtle()\n",
        "\n",
        "for i in range(4):\n",
        "    forward(50)\n",
        "    left(90)"
      ]
    },
    {
      "cell_type": "markdown",
      "metadata": {
        "id": "-RViMxyVgfiC"
      },
      "source": [
        "También podemos usar las funciones:\n",
        "\n",
        "- `back` para moverse en reversa cierta distancia\n",
        "- `forward` para moverse hacia adelante cierta distancia\n",
        "- `left` para girar cierta cantidad de grados hacia la izquiera\n",
        "- `right` para girar cierta cantidad de grados hacia la derecha\n",
        "- `penup` para que la tortuga deje de pintar cuando se mueve\n",
        "- `pendown` para que la tortuga pinte cuando se mueve\n",
        "\n",
        "Con estas funciones podemos hacer mas dibujos. Por ejemplo escribir \"HOLA\":"
      ]
    },
    {
      "cell_type": "code",
      "execution_count": null,
      "metadata": {
        "id": "POJzhWy-gILc"
      },
      "outputs": [],
      "source": [
        "make_turtle(width = 400, height = 200)\n",
        "\n",
        "# se hace la H\n",
        "right(90)\n",
        "forward(50)\n",
        "back(25)\n",
        "left(90)\n",
        "forward(25)\n",
        "left(90)\n",
        "forward(25)\n",
        "back(50)\n",
        "\n",
        "# espacaio\n",
        "penup()\n",
        "right(90)\n",
        "forward(5)\n",
        "pendown()\n",
        "\n",
        "# se hace la O\n",
        "forward(25)\n",
        "left(90)\n",
        "forward(50)\n",
        "left(90)\n",
        "forward(25)\n",
        "left(90)\n",
        "forward(50)\n",
        "left(90)\n",
        "\n",
        "# espacio\n",
        "penup()\n",
        "forward(30)\n",
        "pendown()\n",
        "\n",
        "# se hace la L\n",
        "left(90)\n",
        "forward(50)\n",
        "back(50)\n",
        "right(90)\n",
        "forward(25)\n",
        "\n",
        "# espacaio\n",
        "penup()\n",
        "forward(5)\n",
        "pendown()\n",
        "\n",
        "# se hace la A\n",
        "left(90)\n",
        "forward(50)\n",
        "right(90)\n",
        "forward(25)\n",
        "right(90)\n",
        "forward(25)\n",
        "right(90)\n",
        "forward(25)\n",
        "back(25)\n",
        "left(90)\n",
        "forward(25)"
      ]
    },
    {
      "cell_type": "markdown",
      "metadata": {
        "id": "ar73fWE9prd1"
      },
      "source": [
        "#### 📄 Ejercicio 10\n",
        "\n",
        "**Instrucciones**\n",
        "\n",
        "Dibuja un triángulo equilátero como el siguiente:\n",
        "\n",
        "![triangulo_equilatero.png](data:image/png;base64,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)\n"
      ]
    },
    {
      "cell_type": "code",
      "execution_count": null,
      "metadata": {
        "id": "ktqgEeSGmXud"
      },
      "outputs": [],
      "source": [
        "# Dibuja tu triángulo aquí\n",
        "\n"
      ]
    },
    {
      "cell_type": "markdown",
      "metadata": {
        "id": "SlLoGr17rCV1"
      },
      "source": [
        "**Instrucciones**\n",
        "\n",
        "Dibuja tu nombre (si es muy largo solo las primeras letras).\n",
        "\n",
        "<blockquote>\n",
        "💡 <b>Tip</b>💡 <br>\n",
        "<p>Para hacer el lienzo más grande puedes pasarle los argumentos `width` y `height` a `make_turtle`:</p>\n",
        "<code>\n",
        "make_turtle(widht = 400, height = 200)\n",
        "</code>\n",
        "\n",
        "<p>En lo que constuyes tu nombre si no quieres ver las animaciones de cómo se mueve la tortuga puedes pasarle el argumento `delay` a `make_turtle`</p>\n",
        "\n",
        "<code>\n",
        "make_turtle(widht = 400, height = 200, delay = 0)\n",
        "</code>\n",
        "\n",
        "</blockquote>"
      ]
    },
    {
      "cell_type": "code",
      "execution_count": null,
      "metadata": {
        "id": "OuNJPoKdqHOL"
      },
      "outputs": [],
      "source": [
        "# Pon el código para dibujar tu nombre aquí\n",
        "\n"
      ]
    },
    {
      "cell_type": "markdown",
      "metadata": {
        "id": "szvbUMFpsw4Q"
      },
      "source": [
        "**Instrucciones**\n",
        "\n",
        "Crea una dibujo a tu gusto. Usando expresiones `for` puedes hacer dibujos y figuras muy chulas como los siguientes:\n",
        "\n",
        "![9_lados.png](data:image/png;base64,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)\n",
        "\n",
        "![estrella.png](data:image/png;base64,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)\n",
        "\n",
        "![estrella_2.png](data:image/png;base64,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)"
      ]
    },
    {
      "cell_type": "code",
      "execution_count": null,
      "metadata": {
        "id": "2bB8BaqPthCP"
      },
      "outputs": [],
      "source": [
        "# Aquí va tu código\n",
        "\n",
        "\n"
      ]
    },
    {
      "cell_type": "markdown",
      "metadata": {
        "id": "GUEozaEGvOc9"
      },
      "source": [
        "### Errores\n",
        "\n",
        "Cuando programamos siempre hacemos errores. Por lo tanto es necesario aprender a leer los erroes que nos arroja python.\n",
        "\n",
        "Los errores nos arrojan mucho texto y en un inicio no vamos a entender que nos dicen."
      ]
    },
    {
      "cell_type": "code",
      "execution_count": null,
      "metadata": {
        "id": "Nn-ZDjucwP7Q"
      },
      "outputs": [],
      "source": [
        "print(4 / 0)"
      ]
    },
    {
      "cell_type": "markdown",
      "metadata": {
        "id": "4LZs6fPTwTy-"
      },
      "source": [
        "Hay errores de mucho tipo por ejemplo de arriba es un error por dividir entre cero. Generalmente la última linea de los errores es la mas informativa cuando empieza a programar.\n",
        "\n",
        "Otros son errores de que no seguirmos las relgas del lenguaje de python:"
      ]
    },
    {
      "cell_type": "code",
      "execution_count": null,
      "metadata": {
        "id": "DO4EwPEcwSG7"
      },
      "outputs": [],
      "source": [
        "for i in range(2):\n",
        "print(\"Error\")"
      ]
    },
    {
      "cell_type": "markdown",
      "metadata": {
        "id": "dEjuYseIw37m"
      },
      "source": [
        "En este caso este error nos dice que nos falta la identación.\n",
        "\n",
        "Otros errores nos dicen que hay vairables que aún no definimos y entonces python no las encuentra:"
      ]
    },
    {
      "cell_type": "code",
      "execution_count": null,
      "metadata": {
        "id": "tOsdw4qbw2Tv"
      },
      "outputs": [],
      "source": [
        "print(saludo)"
      ]
    },
    {
      "cell_type": "markdown",
      "metadata": {
        "id": "iGa5b5BmxHFQ"
      },
      "source": [
        "Poco a poco iras encontrando nuevos errores y aprendiendo a solucionarlos. Tu mejor amigo para solucionar errores y aprender a programar es (ChatGTP o cualquier inteligencia artifical que uses) y buscar en Google."
      ]
    }
  ],
  "metadata": {
    "colab": {
      "provenance": []
    },
    "kernelspec": {
      "display_name": "Python 3",
      "name": "python3"
    },
    "language_info": {
      "name": "python"
    }
  },
  "nbformat": 4,
  "nbformat_minor": 0
}
